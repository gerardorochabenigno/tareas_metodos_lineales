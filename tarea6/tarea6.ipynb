{
 "cells": [
  {
   "cell_type": "code",
   "execution_count": 10,
   "metadata": {},
   "outputs": [],
   "source": [
    "import pandas as pd \n",
    "import numpy as np\n",
    "import pyjags\n",
    "import matplotlib.pyplot as plt\n",
    "from statsmodels.graphics.tsaplots import plot_acf\n",
    "import arviz as az"
   ]
  },
  {
   "cell_type": "code",
   "execution_count": 2,
   "metadata": {},
   "outputs": [
    {
     "data": {
      "application/vnd.microsoft.datawrangler.viewer.v0+json": {
       "columns": [
        {
         "name": "index",
         "rawType": "int64",
         "type": "integer"
        },
        {
         "name": "cancer",
         "rawType": "int64",
         "type": "integer"
        },
        {
         "name": "place",
         "rawType": "int64",
         "type": "integer"
        },
        {
         "name": "age",
         "rawType": "int64",
         "type": "integer"
        },
        {
         "name": "obs",
         "rawType": "int64",
         "type": "integer"
        },
        {
         "name": "esp",
         "rawType": "float64",
         "type": "float"
        },
        {
         "name": "pops",
         "rawType": "int64",
         "type": "integer"
        }
       ],
       "conversionMethod": "pd.DataFrame",
       "ref": "331863c5-35ba-4a3b-a12b-d638ad25d5fa",
       "rows": [
        [
         "0",
         "1",
         "1",
         "1",
         "38",
         "24.08",
         "103857"
        ],
        [
         "1",
         "1",
         "1",
         "2",
         "13",
         "36.12",
         "155786"
        ],
        [
         "2",
         "1",
         "2",
         "1",
         "51",
         "31.52",
         "135943"
        ],
        [
         "3",
         "1",
         "2",
         "2",
         "37",
         "47.28",
         "203914"
        ],
        [
         "4",
         "2",
         "1",
         "1",
         "5",
         "7.97",
         "103857"
        ],
        [
         "5",
         "2",
         "1",
         "2",
         "8",
         "11.95",
         "155786"
        ],
        [
         "6",
         "2",
         "2",
         "1",
         "13",
         "10.43",
         "135943"
        ],
        [
         "7",
         "2",
         "2",
         "2",
         "20",
         "15.65",
         "203914"
        ]
       ],
       "shape": {
        "columns": 6,
        "rows": 8
       }
      },
      "text/html": [
       "<div>\n",
       "<style scoped>\n",
       "    .dataframe tbody tr th:only-of-type {\n",
       "        vertical-align: middle;\n",
       "    }\n",
       "\n",
       "    .dataframe tbody tr th {\n",
       "        vertical-align: top;\n",
       "    }\n",
       "\n",
       "    .dataframe thead th {\n",
       "        text-align: right;\n",
       "    }\n",
       "</style>\n",
       "<table border=\"1\" class=\"dataframe\">\n",
       "  <thead>\n",
       "    <tr style=\"text-align: right;\">\n",
       "      <th></th>\n",
       "      <th>cancer</th>\n",
       "      <th>place</th>\n",
       "      <th>age</th>\n",
       "      <th>obs</th>\n",
       "      <th>esp</th>\n",
       "      <th>pops</th>\n",
       "    </tr>\n",
       "  </thead>\n",
       "  <tbody>\n",
       "    <tr>\n",
       "      <th>0</th>\n",
       "      <td>1</td>\n",
       "      <td>1</td>\n",
       "      <td>1</td>\n",
       "      <td>38</td>\n",
       "      <td>24.08</td>\n",
       "      <td>103857</td>\n",
       "    </tr>\n",
       "    <tr>\n",
       "      <th>1</th>\n",
       "      <td>1</td>\n",
       "      <td>1</td>\n",
       "      <td>2</td>\n",
       "      <td>13</td>\n",
       "      <td>36.12</td>\n",
       "      <td>155786</td>\n",
       "    </tr>\n",
       "    <tr>\n",
       "      <th>2</th>\n",
       "      <td>1</td>\n",
       "      <td>2</td>\n",
       "      <td>1</td>\n",
       "      <td>51</td>\n",
       "      <td>31.52</td>\n",
       "      <td>135943</td>\n",
       "    </tr>\n",
       "    <tr>\n",
       "      <th>3</th>\n",
       "      <td>1</td>\n",
       "      <td>2</td>\n",
       "      <td>2</td>\n",
       "      <td>37</td>\n",
       "      <td>47.28</td>\n",
       "      <td>203914</td>\n",
       "    </tr>\n",
       "    <tr>\n",
       "      <th>4</th>\n",
       "      <td>2</td>\n",
       "      <td>1</td>\n",
       "      <td>1</td>\n",
       "      <td>5</td>\n",
       "      <td>7.97</td>\n",
       "      <td>103857</td>\n",
       "    </tr>\n",
       "    <tr>\n",
       "      <th>5</th>\n",
       "      <td>2</td>\n",
       "      <td>1</td>\n",
       "      <td>2</td>\n",
       "      <td>8</td>\n",
       "      <td>11.95</td>\n",
       "      <td>155786</td>\n",
       "    </tr>\n",
       "    <tr>\n",
       "      <th>6</th>\n",
       "      <td>2</td>\n",
       "      <td>2</td>\n",
       "      <td>1</td>\n",
       "      <td>13</td>\n",
       "      <td>10.43</td>\n",
       "      <td>135943</td>\n",
       "    </tr>\n",
       "    <tr>\n",
       "      <th>7</th>\n",
       "      <td>2</td>\n",
       "      <td>2</td>\n",
       "      <td>2</td>\n",
       "      <td>20</td>\n",
       "      <td>15.65</td>\n",
       "      <td>203914</td>\n",
       "    </tr>\n",
       "  </tbody>\n",
       "</table>\n",
       "</div>"
      ],
      "text/plain": [
       "   cancer  place  age  obs    esp    pops\n",
       "0       1      1    1   38  24.08  103857\n",
       "1       1      1    2   13  36.12  155786\n",
       "2       1      2    1   51  31.52  135943\n",
       "3       1      2    2   37  47.28  203914\n",
       "4       2      1    1    5   7.97  103857\n",
       "5       2      1    2    8  11.95  155786\n",
       "6       2      2    1   13  10.43  135943\n",
       "7       2      2    2   20  15.65  203914"
      ]
     },
     "execution_count": 2,
     "metadata": {},
     "output_type": "execute_result"
    }
   ],
   "source": [
    "import numpy as np\n",
    "leucemia = pd.read_csv(\"http://gente.itam.mx/lnieto/index_archivos/leucemia.txt\", sep=\"\\t\")\n",
    "leucemia.columns = ['cancer', 'place', 'age', 'obs', 'esp', 'pops']\n",
    "n = leucemia.shape[0]\n",
    "leucemia"
   ]
  },
  {
   "cell_type": "markdown",
   "metadata": {},
   "source": [
    "### Efectos intercambiables"
   ]
  },
  {
   "cell_type": "code",
   "execution_count": 8,
   "metadata": {},
   "outputs": [
    {
     "name": "stdout",
     "output_type": "stream",
     "text": [
      "updating: iterations 10000 of 10000, elapsed 0:00:00, remaining 0:00:00\n",
      "sampling: iterations 100000 of 100000, elapsed 0:00:00, remaining 0:00:00\n"
     ]
    }
   ],
   "source": [
    "# Definimos datos\n",
    "data = {\n",
    "    \"n\":n,\n",
    "    \"y\":leucemia['obs'].values,\n",
    "    \"ne\": leucemia['pops'].values/10000,\n",
    "}\n",
    "\n",
    "# Valores iniciales\n",
    "inits_a = {\"theta\": 1, 'yf1': np.repeat(0, n)}\n",
    "inits_a = [inits_a, inits_a]\n",
    "\n",
    "# Parametros a monitorear\n",
    "params_a = ['theta', 'yf1']\n",
    "\n",
    "# Modelo\n",
    "with open('ej7a.txt', 'r') as f:\n",
    "    code_a = f.read()\n",
    "\n",
    "model_a = pyjags.Model(code_a, \n",
    "                       data=data,\n",
    "                       chains=2,\n",
    "                       init=inits_a,\n",
    "                       adapt=5000)\n",
    "model_a.update(5000)\n",
    "samples_a = model_a.sample(50000, vars=params_a)"
   ]
  },
  {
   "cell_type": "code",
   "execution_count": 19,
   "metadata": {},
   "outputs": [
    {
     "data": {
      "text/plain": [
       "'\\\\begin{tabular}{lrrrrr}\\n\\\\toprule\\n & mean & sd & hdi_3% & hdi_97% & r_hat \\\\\\\\\\n\\\\midrule\\ntheta & 1.5430 & 0.1130 & 1.3300 & 1.7570 & 1.0000 \\\\\\\\\\n\\\\bottomrule\\n\\\\end{tabular}\\n'"
      ]
     },
     "execution_count": 19,
     "metadata": {},
     "output_type": "execute_result"
    }
   ],
   "source": [
    "# Tabla de resultados\n",
    "idata_a = az.from_pyjags(samples_a)\n",
    "\n",
    "# Obtenemos un resumen estadístico\n",
    "summary_colums = ['mean', 'sd', 'hdi_3%', 'hdi_97%', 'r_hat']\n",
    "summary_a = az.summary(idata_a, var_names=[\"theta\"])[summary_colums]\n",
    "\n",
    "summary_a.to_latex(float_format=\"%.4f\")\n"
   ]
  },
  {
   "cell_type": "code",
   "execution_count": 35,
   "metadata": {},
   "outputs": [
    {
     "data": {
      "text/plain": [
       "<matplotlib.legend.Legend at 0x14abb6500>"
      ]
     },
     "execution_count": 35,
     "metadata": {},
     "output_type": "execute_result"
    },
    {
     "data": {
      "image/png": "[encoded data removed]",
      "text/plain": [
       "<Figure size 640x480 with 1 Axes>"
      ]
     },
     "metadata": {},
     "output_type": "display_data"
    }
   ],
   "source": [
    "# Figura 1\n",
    "import matplotlib.pyplot as plt\n",
    "y_obs = leucemia['obs']\n",
    "y_pred = az.summary(idata_a, var_names=[\"yf1\"])['mean']\n",
    "fix, ax = plt.subplots()\n",
    "ax.scatter(np.arange(len(y_obs)), y_obs, alpha=0.5, label ='Observado')\n",
    "ax.scatter(np.arange(len(y_pred)), y_pred, alpha=0.5, label='Predicho')\n",
    "ax.legend()\n"
   ]
  },
  {
   "cell_type": "code",
   "execution_count": null,
   "metadata": {},
   "outputs": [],
   "source": []
  }
 ],
 "metadata": {
  "kernelspec": {
   "display_name": "bayes",
   "language": "python",
   "name": "python3"
  },
  "language_info": {
   "codemirror_mode": {
    "name": "ipython",
    "version": 3
   },
   "file_extension": ".py",
   "mimetype": "text/x-python",
   "name": "python",
   "nbconvert_exporter": "python",
   "pygments_lexer": "ipython3",
   "version": "3.10.16"
  }
 },
 "nbformat": 4,
 "nbformat_minor": 2
}
